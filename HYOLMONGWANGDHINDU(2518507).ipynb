{
  "cells": [
    {
      "cell_type": "markdown",
      "metadata": {
        "id": "view-in-github",
        "colab_type": "text"
      },
      "source": [
        "<a href=\"https://colab.research.google.com/github/CallMeNawang/nawang.github.io/blob/main/HYOLMONGWANGDHINDU(2518507).ipynb\" target=\"_parent\"><img src=\"https://colab.research.google.com/assets/colab-badge.svg\" alt=\"Open In Colab\"/></a>"
      ]
    },
    {
      "cell_type": "markdown",
      "id": "d4d7adfb",
      "metadata": {
        "id": "d4d7adfb"
      },
      "source": [
        "# Python: Professional Short Course — Colab Notebook\n",
        "\n",
        "This notebook was developed in collaboration with ChatGPT (GPT-5).\n",
        "\n",
        "Original conversation link: https://chatgpt.com/share/68ee9cdf-ffa8-8006-8794-dd93510d9749\n",
        "\n",
        "This notebook presents concise conceptual explanations, runnable examples, and short practice exercises for each topic.\n",
        "\n",
        "How to use: Run each example cell, then attempt the practice cell below it. Hints are provided as commented code.\n",
        "\n"
      ]
    },
    {
      "cell_type": "markdown",
      "id": "7d72b3c2",
      "metadata": {
        "id": "7d72b3c2"
      },
      "source": [
        "## 🔹 Section 1: Variables and Data Types\n",
        "\n",
        "Professional summary:\n",
        "\n",
        "Variables are named locations used to store data that your program can manipulate. Think of a variable as a labeled container: you put a value inside and refer to it by name. This allows your code to be more readable and maintainable because you can use descriptive names instead of raw values.\n",
        "\n",
        "Python supports several built-in data types. The most common are integers (`int`), floating-point numbers (`float`), strings (`str`), and booleans (`bool`). Working with these types lets you represent numbers, text, and logical values. Python is dynamically typed, which means a variable can hold any type of value and that type can change during execution."
      ]
    },
    {
      "cell_type": "code",
      "execution_count": null,
      "id": "f90f554b",
      "metadata": {
        "id": "f90f554b"
      },
      "outputs": [],
      "source": [
        "# Examples: Variables & Types\n",
        "x = 42               # int\n",
        "pi = 3.14159         # float\n",
        "username = \"student\" # str\n",
        "is_active = False    # bool\n",
        "\n",
        "print(\"x:\", x, \"| type:\", type(x))\n",
        "print(\"pi:\", pi, \"| type:\", type(pi))\n",
        "print(\"username:\", username)\n",
        "print(\"is_active:\", is_active)"
      ]
    },
    {
      "cell_type": "code",
      "execution_count": null,
      "id": "6bb1fa3f",
      "metadata": {
        "id": "6bb1fa3f"
      },
      "outputs": [],
      "source": [
        "# PRACTICE: Variables & Types (2 tasks)\n",
        "# 1) TODO: Create a variable `a` with value 10 and `b` with value 2.5. Print their types.\n",
        "# 2) TODO: Convert `b` to int and assign to `b_int`. Print the result and its type.\n",
        "#\n",
        "# HINTS (uncomment to view):\n",
        "# a = 10\n",
        "# b = 2.5\n",
        "# print(type(a), type(b))\n",
        "# b_int = int(b)\n",
        "# print(b_int, type(b_int))"
      ]
    },
    {
      "cell_type": "markdown",
      "id": "d2cdeeda",
      "metadata": {
        "id": "d2cdeeda"
      },
      "source": [
        "## 🔹 Section 2: Basic Operators\n",
        "\n",
        "Professional summary:\n",
        "\n",
        "Operators allow you to perform arithmetic, comparison, and logical operations on values. Arithmetic operators handle numerical computation (addition, subtraction, multiplication, division, modulus), while comparison operators let you compare values and obtain boolean results.Logical operators (`and`, `or`, `not`) combine boolean expressions to form complex conditions.\n",
        "\n",
        "Operator precedence determines how expressions are evaluated; using parentheses makes the intended order explicit and helps avoid mistakes. Familiarity with these operators is essential because they are used in almost every program to compute values and control program flow."
      ]
    },
    {
      "cell_type": "code",
      "execution_count": null,
      "id": "df1cf9b6",
      "metadata": {
        "id": "df1cf9b6"
      },
      "outputs": [],
      "source": [
        "# Examples: Operators\n",
        "a, b = 7, 3\n",
        "print(\"add:\", a + b)\n",
        "print(\"sub:\", a - b)\n",
        "print(\"mul:\", a * b)\n",
        "print(\"div:\", a / b)\n",
        "print(\"floor div:\", a // b)\n",
        "print(\"mod:\", a % b)\n",
        "print(\"equal?:\", a == b)\n",
        "print(\"logical (a>5 and b<10):\", (a > 5) and (b < 10))"
      ]
    },
    {
      "cell_type": "code",
      "execution_count": null,
      "id": "e41533b3",
      "metadata": {
        "id": "e41533b3"
      },
      "outputs": [],
      "source": [
        "# PRACTICE: Operators (2 tasks)\n",
        "# 1) TODO: Compute remainder of 23 divided by 5 and store in `r`. Print r.\n",
        "# 2) TODO: Evaluate whether (10 - 3) * 2 is greater than 12 and print the boolean result.\n",
        "#\n",
        "# HINTS:\n",
        "# r = 23 % 5\n",
        "# print(r)\n",
        "# result = (10 - 3) * 2 > 12\n",
        "# print(result)"
      ]
    },
    {
      "cell_type": "markdown",
      "id": "820a36ac",
      "metadata": {
        "id": "820a36ac"
      },
      "source": [
        "## 🔹 Section 3: Input/Output Operations\n",
        "\n",
        "Professional summary:\n",
        "\n",
        "`print()` and `input()` are the basic building blocks for interacting with the user in console programs. `print()` displays text and values, while `input()` reads a line of text from the user. Remember that `input()` always returns a string, so conversions are necessary when you expect numbers.Using formatted strings (f-strings) makes combining text and variables concise and readable.\n",
        "\n",
        "When designing I/O, consider clear prompts and handling invalid input. In interactive notebooks like Colab, `input()` works but can pause execution; for demos we often set example variables directly."
      ]
    },
    {
      "cell_type": "code",
      "execution_count": null,
      "id": "d140ebfe",
      "metadata": {
        "id": "d140ebfe"
      },
      "outputs": [],
      "source": [
        "# Examples: I/O\n",
        "name = \"Learner\"\n",
        "age = 21\n",
        "print(f\"Name: {name}, Age: {age}\")\n",
        "\n",
        "# Interactive example (uncomment to run interactively in Colab):\n",
        "# reply = input('Type something: ')\n",
        "# print('You typed:', reply)"
      ]
    },
    {
      "cell_type": "code",
      "execution_count": null,
      "id": "d94471b5",
      "metadata": {
        "id": "d94471b5"
      },
      "outputs": [],
      "source": [
        "# PRACTICE: I/O (2 tasks)\n",
        "# 1) TODO: Create variables `first` and `last` with two names and print \"first last\" using an f-string.\n",
        "# 2) TODO (optional interactive): Uncomment and run input() to ask: \"Enter a number:\" then convert to int and print number+1.\n",
        "#\n",
        "# HINTS:\n",
        "# first = \"Han\"\n",
        "# last = \"Kim\"\n",
        "# print(f\"{first} {last}\")\n",
        "# n = int(input(\"Enter a number: \"))\n",
        "# print(n + 1)"
      ]
    },
    {
      "cell_type": "markdown",
      "id": "9443665a",
      "metadata": {
        "id": "9443665a"
      },
      "source": [
        "## 🔹 Section 4: Conditional Statements\n",
        "\n",
        "Professional summary:\n",
        "\n",
        "Conditional statements allow a program to make decisions and execute different code paths depending on conditions. The `if` statement checks a condition and executes the associated block when it is true; `elif` and `else` provide additional branches for alternative conditions.Proper indentation is required in Python to define blocks of code clearly.\n",
        "\n",
        "Design conditionals to be clear and minimal. Complex conditions can often be simplified or extracted into boolean variables with descriptive names to improve readability."
      ]
    },
    {
      "cell_type": "code",
      "execution_count": null,
      "id": "c6fe2dfb",
      "metadata": {
        "id": "c6fe2dfb"
      },
      "outputs": [],
      "source": [
        "# Examples: Conditionals\n",
        "score = 82\n",
        "if score >= 90:\n",
        "    grade = 'A'\n",
        "elif score >= 75:\n",
        "    grade = 'B'\n",
        "else:\n",
        "    grade = 'C'\n",
        "print('Grade:', grade)"
      ]
    },
    {
      "cell_type": "code",
      "execution_count": null,
      "id": "f58ee871",
      "metadata": {
        "id": "f58ee871"
      },
      "outputs": [],
      "source": [
        "# PRACTICE: Conditionals (2 tasks)\n",
        "# 1) TODO: Given `n = 0`, print \"zero\", \"positive\" or \"negative\" accordingly.\n",
        "# 2) TODO: Write a nested conditional: if n is positive and even, print \"positive even\".\n",
        "#\n",
        "# HINTS:\n",
        "# n = 0\n",
        "# if n == 0:\n",
        "#     print(\"zero\")\n",
        "# elif n > 0:\n",
        "#     print(\"positive\")\n",
        "# else:\n",
        "#     print(\"negative\")\n",
        "# if n > 0:\n",
        "#     if n % 2 == 0:\n",
        "#         print(\"positive even\")"
      ]
    },
    {
      "cell_type": "markdown",
      "id": "818bf95d",
      "metadata": {
        "id": "818bf95d"
      },
      "source": [
        "## 🔹 Section 5: Loops\n",
        "\n",
        "Professional summary:\n",
        "\n",
        "Loops let you repeat actions efficiently. Use a `for` loop when you need to iterate over a sequence or a known range of values. Use a `while` loop when repetition should continue while a condition holds true. Both loop types can be controlled using `break` and `continue` to exit early or skip iterations.\n",
        "\n",
        "When using loops, consider the termination condition carefully to avoid infinite loops. Also, prefer concise loop constructs and use list comprehensions when appropriate for simple transformations."
      ]
    },
    {
      "cell_type": "code",
      "execution_count": null,
      "id": "16e9b39d",
      "metadata": {
        "id": "16e9b39d"
      },
      "outputs": [],
      "source": [
        "# Examples: Loops\n",
        "for i in range(4):\n",
        "    print(\"i:\", i)\n",
        "\n",
        "count = 0\n",
        "while count < 3:\n",
        "    print(\"count:\", count)\n",
        "    count += 1"
      ]
    },
    {
      "cell_type": "code",
      "execution_count": null,
      "id": "79cee9be",
      "metadata": {
        "id": "79cee9be"
      },
      "outputs": [],
      "source": [
        "# PRACTICE: Loops (2 tasks)\n",
        "# 1) TODO: Use a for loop to print even numbers from 0 to 8.\n",
        "# 2) TODO: Use a while loop to decrement a variable from 5 to 0 and print each value.\n",
        "#\n",
        "# HINTS:\n",
        "# for i in range(0, 9, 2):\n",
        "#     print(i)\n",
        "# x = 5\n",
        "# while x >= 0:\n",
        "#     print(x)\n",
        "#     x -= 1"
      ]
    },
    {
      "cell_type": "markdown",
      "id": "b2046b73",
      "metadata": {
        "id": "b2046b73"
      },
      "source": [
        "## 🔹 Section 6: Lists\n",
        "\n",
        "Professional summary:\n",
        "\n",
        "Lists are ordered, mutable collections that hold items of any type. They are suitable when you need an indexed collection that can grow or change. Common operations include indexing, slicing, appending, removing, and sorting items. Lists are versatile and are the default sequence type in many Python programs.\n",
        "\n",
        "When working with lists, be mindful of methods that modify the list in place (like `sort()`), and consider whether a new list (via comprehensions or `sorted()`) would be safer for clarity or performance."
      ]
    },
    {
      "cell_type": "code",
      "execution_count": null,
      "id": "3604135a",
      "metadata": {
        "id": "3604135a"
      },
      "outputs": [],
      "source": [
        "# Examples: Lists\n",
        "items = [3, 1, 4, 1, 5]\n",
        "items.append(9)\n",
        "items.remove(1)    # removes first occurrence of 1\n",
        "items.sort()\n",
        "print(items)\n",
        "for v in items:\n",
        "    print(v)"
      ]
    },
    {
      "cell_type": "code",
      "execution_count": null,
      "id": "f055afd4",
      "metadata": {
        "id": "f055afd4"
      },
      "outputs": [],
      "source": [
        "# PRACTICE: Lists (2 tasks)\n",
        "# 1) TODO: Create a list of five elements and print the third item (index 2).\n",
        "# 2) TODO: Append a new value and then print the entire list.\n",
        "#\n",
        "# HINTS:\n",
        "# lst = [10, 20, 30, 40, 50]\n",
        "# print(lst[2])\n",
        "# lst.append(60)\n",
        "# print(lst)"
      ]
    },
    {
      "cell_type": "markdown",
      "id": "9d797809",
      "metadata": {
        "id": "9d797809"
      },
      "source": [
        "## 🔹 Section 7: Tuples\n",
        "\n",
        "Professional summary:\n",
        "\n",
        "Tuples are ordered, immutable sequences. Once created, their contents cannot be changed. This immutability makes tuples useful for fixed collections of values where integrity is important. Tuples also support unpacking, which is a concise way to assign elements to multiple variables at once.\n",
        "\n",
        "Use tuples when the data should not change (for example, coordinates or configuration constants). For variable collections that need modification, use lists instead."
      ]
    },
    {
      "cell_type": "code",
      "execution_count": null,
      "id": "ac3f16ae",
      "metadata": {
        "id": "ac3f16ae"
      },
      "outputs": [],
      "source": [
        "# Examples: Tuples\n",
        "coords = (35.0, 129.0)\n",
        "lat, lon = coords\n",
        "print(\"lat:\", lat, \"lon:\", lon)"
      ]
    },
    {
      "cell_type": "code",
      "execution_count": null,
      "id": "fd23ab9e",
      "metadata": {
        "id": "fd23ab9e"
      },
      "outputs": [],
      "source": [
        "# PRACTICE: Tuples (2 tasks)\n",
        "# 1) TODO: Define a tuple with three values and unpack into three variables.\n",
        "# 2) TODO: Observe that assigning to tuple[0] raises an error (try by uncommenting the line).\n",
        "#\n",
        "# HINTS:\n",
        "# t = (1, 2, 3)\n",
        "# a, b, c = t\n",
        "# print(a, b, c)\n",
        "# # t[0] = 5  # This will raise a TypeError if uncommented"
      ]
    },
    {
      "cell_type": "markdown",
      "id": "b6d4fc0a",
      "metadata": {
        "id": "b6d4fc0a"
      },
      "source": [
        "## 🔹 Section 8: Dictionaries\n",
        "\n",
        "Professional summary:\n",
        "\n",
        "Dictionaries map keys to values and are ideal for representing structured data (like objects with named attributes). Keys are typically strings (but can be any immutable type), and values can be any Python object. Dictionaries are unordered in older Python versions, but modern Python preserves insertion order while still treating dictionaries primarily as key-value maps.\n",
        "\n",
        "Common operations include accessing values by key, updating entries, and iterating over keys and values. Use `dict.get()` when a key may be missing to supply a safe default."
      ]
    },
    {
      "cell_type": "code",
      "execution_count": null,
      "id": "55711c38",
      "metadata": {
        "id": "55711c38"
      },
      "outputs": [],
      "source": [
        "# Examples: Dictionaries\n",
        "person = {\"name\": \"Alex\", \"city\": \"Busan\", \"age\": 25}\n",
        "print(person[\"name\"])\n",
        "person[\"age\"] = 26\n",
        "for k, v in person.items():\n",
        "    print(k, \":\", v)"
      ]
    },
    {
      "cell_type": "code",
      "execution_count": null,
      "id": "f0d549db",
      "metadata": {
        "id": "f0d549db"
      },
      "outputs": [],
      "source": [
        "# PRACTICE: Dictionaries (2 tasks)\n",
        "# 1) TODO: Create a dictionary for a hotel room: keys 'room', 'price', 'available'.\n",
        "# 2) TODO: Print the keys and then the values.\n",
        "#\n",
        "# HINTS:\n",
        "# room = {\"room\": 101, \"price\": 120.0, \"available\": True}\n",
        "# print(room.keys())\n",
        "# print(room.values())"
      ]
    },
    {
      "cell_type": "markdown",
      "id": "29c5c667",
      "metadata": {
        "id": "29c5c667"
      },
      "source": [
        "## 🔹 Section 9: Sets\n",
        "\n",
        "Professional summary:\n",
        "\n",
        "Sets are unordered collections of unique elements and are useful when you need to remove duplicates or perform mathematical set operations (union, intersection, difference). They allow fast membership testing and are implemented with hash tables under the hood, which makes operations like `in` checks efficient.\n",
        "\n",
        "Use sets when uniqueness matters or when you need to compare groups of items. Keep in mind sets are unordered, so they do not support indexing."
      ]
    },
    {
      "cell_type": "code",
      "execution_count": null,
      "id": "12b89009",
      "metadata": {
        "id": "12b89009"
      },
      "outputs": [],
      "source": [
        "# Examples: Sets\n",
        "a = {1, 2, 3, 3}\n",
        "b = {3, 4}\n",
        "print(\"a:\", a)\n",
        "print(\"union:\", a.union(b))\n",
        "print(\"intersection:\", a.intersection(b))"
      ]
    },
    {
      "cell_type": "code",
      "execution_count": null,
      "id": "3b4162b6",
      "metadata": {
        "id": "3b4162b6"
      },
      "outputs": [],
      "source": [
        "# PRACTICE: Sets (2 tasks)\n",
        "# 1) TODO: Create a set from a list with duplicates and show that duplicates are removed.\n",
        "# 2) TODO: Compute the difference between two sets.\n",
        "#\n",
        "# HINTS:\n",
        "# s = set([1,1,2,2,3])\n",
        "# print(s)\n",
        "# a = {1,2,3}\n",
        "# b = {2,3,4}\n",
        "# print(a - b)"
      ]
    },
    {
      "cell_type": "markdown",
      "id": "5762f7ae",
      "metadata": {
        "id": "5762f7ae"
      },
      "source": [
        "## 🔹 Section 10: Functions\n",
        "\n",
        "Professional summary:\n",
        "\n",
        "Functions encapsulate a sequence of statements to perform a specific task. They improve code reuse and readability by allowing you to call the same logic with different inputs. Define functions with `def`, specify parameters for inputs, and use `return` to provide results back to the caller.\n",
        "\n",
        "Good function design means keeping functions small and focused, using clear parameter names, and avoiding side effects when possible. This makes testing and maintenance easier."
      ]
    },
    {
      "cell_type": "code",
      "execution_count": null,
      "id": "68316cba",
      "metadata": {
        "id": "68316cba"
      },
      "outputs": [],
      "source": [
        "# Examples: Functions\n",
        "def greet(name):\n",
        "    return f\"Hello, {name}\"\n",
        "\n",
        "print(greet(\"Learner\"))\n",
        "\n",
        "def add(a, b=0):\n",
        "    return a + b\n",
        "\n",
        "print(add(2, 3))"
      ]
    },
    {
      "cell_type": "code",
      "execution_count": null,
      "id": "003889ce",
      "metadata": {
        "id": "003889ce"
      },
      "outputs": [],
      "source": [
        "# PRACTICE: Functions (3 tasks)\n",
        "# 1) TODO: Define a function `square(x)` that returns x*x.\n",
        "# 2) TODO: Define `is_even(n)` returning True for even numbers.\n",
        "# 3) TODO: Call both functions and print results.\n",
        "#\n",
        "# HINTS:\n",
        "# def square(x):\n",
        "#     return x * x\n",
        "# def is_even(n):\n",
        "#     return n % 2 == 0\n",
        "# print(square(4))\n",
        "# print(is_even(5))"
      ]
    },
    {
      "cell_type": "markdown",
      "id": "a3c06f45",
      "metadata": {
        "id": "a3c06f45"
      },
      "source": [
        "## 🔹 Section 11: File Handling\n",
        "\n",
        "Professional summary:\n",
        "\n",
        "File handling allows programs to read from and write to files on disk, enabling persistent storage of data. Using the `with open(...) as f:` pattern ensures files are closed automatically, even if errors occur. Common methods include `read()`, `readline()`, `readlines()`, and `write()`.\n",
        "\n",
        "When writing files, consider encoding and newline behavior for portability. For small datasets, text files are sufficient; for structured data prefer formats like CSV or JSON with the appropriate libraries."
      ]
    },
    {
      "cell_type": "code",
      "execution_count": null,
      "id": "bfb389d9",
      "metadata": {
        "id": "bfb389d9"
      },
      "outputs": [],
      "source": [
        "# Examples: File handling\n",
        "content = \"Line1\\nLine2\"\n",
        "with open(\"sample.txt\", \"w\") as f:\n",
        "    f.write(content)\n",
        "\n",
        "with open(\"sample.txt\", \"r\") as f:\n",
        "    data = f.read()\n",
        "print(data)"
      ]
    },
    {
      "cell_type": "code",
      "execution_count": null,
      "id": "eeff3bba",
      "metadata": {
        "id": "eeff3bba"
      },
      "outputs": [],
      "source": [
        "# PRACTICE: File Handling (2 tasks)\n",
        "# 1) TODO: Write three lines to a file named 'notes.txt' and then read them back.\n",
        "# 2) TODO: Read lines using readlines() and print the list of lines.\n",
        "#\n",
        "# HINTS:\n",
        "# with open(\"notes.txt\", \"w\") as f:\n",
        "#     f.write(\"First\\nSecond\\nThird\\n\")\n",
        "# with open(\"notes.txt\", \"r\") as f:\n",
        "#     lines = f.readlines()\n",
        "# print(lines)"
      ]
    },
    {
      "cell_type": "markdown",
      "id": "2ac061e9",
      "metadata": {
        "id": "2ac061e9"
      },
      "source": [
        "## 🔹 Section 12: Libraries\n",
        "\n",
        "Professional summary:\n",
        "\n",
        "Libraries provide reusable functionality so you don't have to rewrite common code. Python's standard library includes modules for math, random, datetime, and more. External packages can be installed with `pip` and then imported. Reading official documentation and examples is the fastest way to learn how to use a new library.\n",
        "\n",
        "When using third-party libraries, manage dependencies carefully and prefer well-maintained packages. In Colab, installing packages with `!pip install` is common for experiments and demos."
      ]
    },
    {
      "cell_type": "code",
      "execution_count": null,
      "id": "9516c2bb",
      "metadata": {
        "id": "9516c2bb"
      },
      "outputs": [],
      "source": [
        "# Examples: Libraries\n",
        "import math\n",
        "print(\"sqrt(81):\", math.sqrt(81))\n",
        "import random\n",
        "print(\"choice:\", random.choice([10,20,30]))"
      ]
    },
    {
      "cell_type": "code",
      "execution_count": null,
      "id": "cfb5864f",
      "metadata": {
        "id": "cfb5864f"
      },
      "outputs": [],
      "source": [
        "# PRACTICE: Libraries (2 tasks)\n",
        "# 1) TODO: Use math.pow to compute 2^5 and print the result.\n",
        "# 2) TODO: Use random.randint to generate an integer between 1 and 10.\n",
        "#\n",
        "# HINTS:\n",
        "# import math\n",
        "# print(math.pow(2, 5))\n",
        "# import random\n",
        "# print(random.randint(1, 10))"
      ]
    }
  ],
  "metadata": {
    "colab": {
      "provenance": [],
      "include_colab_link": true
    }
  },
  "nbformat": 4,
  "nbformat_minor": 5
}